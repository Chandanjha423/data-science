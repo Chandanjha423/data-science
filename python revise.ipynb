{
 "cells": [
  {
   "cell_type": "code",
   "execution_count": 1,
   "id": "21f22ca9",
   "metadata": {},
   "outputs": [
    {
     "name": "stdout",
     "output_type": "stream",
     "text": [
      "7\n",
      "14\n"
     ]
    }
   ],
   "source": [
    "#  y=x2 ,x=5 to x=12 \n",
    "for x in (5,12):\n",
    "    print(x^2)"
   ]
  },
  {
   "cell_type": "code",
   "execution_count": 2,
   "id": "ba5507a1",
   "metadata": {},
   "outputs": [
    {
     "name": "stdout",
     "output_type": "stream",
     "text": [
      "some kind of a useless lambda\n"
     ]
    }
   ],
   "source": [
    "# using labda function (anonoymous function)\n",
    "x=\"some kind of a useless lambda\"\n",
    "(lambda x : print(x))(x)"
   ]
  },
  {
   "cell_type": "code",
   "execution_count": 3,
   "id": "a09053ca",
   "metadata": {},
   "outputs": [
    {
     "name": "stdout",
     "output_type": "stream",
     "text": [
      "printer 1 REGULAR CALL\n",
      "printer 2 REGULAR CALL \n",
      "\n",
      "printer 1 LAMBDA CALL\n",
      "printer 2 LAMBDA CALL\n"
     ]
    }
   ],
   "source": [
    "def guru( funct, *args ):\n",
    "    funct(*args)\n",
    "def printer_one( arg ):\n",
    "    return print (arg)\n",
    "def printer_two( arg ):\n",
    "    print(arg)\n",
    "#CALL A REGULAR FUNCTION \n",
    "guru( printer_one, 'printer 1 REGULAR CALL' )\n",
    "guru( printer_two, 'printer 2 REGULAR CALL \\n')\n",
    "# call a guru with labda function\n",
    "guru(lambda: printer_one('printer 1 LAMBDA CALL'))\n",
    "guru(lambda: printer_two('printer 2 LAMBDA CALL'))\n"
   ]
  },
  {
   "cell_type": "code",
   "execution_count": 4,
   "id": "8b1ee028",
   "metadata": {},
   "outputs": [
    {
     "name": "stdout",
     "output_type": "stream",
     "text": [
      "[10, 8, 7, 5, 11]\n"
     ]
    }
   ],
   "source": [
    "# code explanation\n",
    "# 1. In the first statement, we define a list called sequences which contains some numbers.\n",
    "\n",
    "# 2. Here, we declare a variable called filtered_result, which will store the filtered values returned by the filter() function.\n",
    "\n",
    "# 3. A lambda function which runs on each element of the list and returns true if it is greater than 4.\n",
    "\n",
    "# 4. Print the result returned by the filter function\\\\\\\n",
    "\n",
    "sequences = [10,2,8,7,5,4,3,11,0, 1]\n",
    "filtered_result = filter (lambda x: x > 4, sequences) \n",
    "print(list(filtered_result))"
   ]
  },
  {
   "cell_type": "code",
   "execution_count": 5,
   "id": "5304023e",
   "metadata": {},
   "outputs": [
    {
     "name": "stdout",
     "output_type": "stream",
     "text": [
      "100\n"
     ]
    }
   ],
   "source": [
    "a=10\n",
    "b=10\n",
    "c=a*b\n",
    "print(c)"
   ]
  },
  {
   "cell_type": "code",
   "execution_count": 6,
   "id": "77874d4d",
   "metadata": {},
   "outputs": [
    {
     "name": "stdout",
     "output_type": "stream",
     "text": [
      "12\n",
      "11\n",
      "132\n"
     ]
    }
   ],
   "source": [
    "# l.cm\n",
    "num1 = int(input())\n",
    "num2 = int(input())\n",
    "if(num1>num2):\n",
    "    max =num1\n",
    "else:\n",
    "    max=num2\n",
    "while(True):\n",
    "    if(max%num1==0 and max%num2==0):\n",
    "        print(max)\n",
    "        \n",
    "        break;\n",
    "    max= max+1 "
   ]
  },
  {
   "cell_type": "code",
   "execution_count": 7,
   "id": "5a210516",
   "metadata": {},
   "outputs": [
    {
     "name": "stdout",
     "output_type": "stream",
     "text": [
      "16\n"
     ]
    }
   ],
   "source": [
    "def square(x):\n",
    "    return x*x\n",
    "    \n",
    "print(square(4))\n"
   ]
  },
  {
   "cell_type": "code",
   "execution_count": 8,
   "id": "80d873df",
   "metadata": {},
   "outputs": [
    {
     "name": "stdout",
     "output_type": "stream",
     "text": [
      "['apple']\n",
      "['apple', 'banana']\n",
      "['apple', 'banana', 'mango']\n"
     ]
    }
   ],
   "source": [
    "# using for loop\n",
    "fruits=[\"apple\",\"banana\",\"cherry\",\"kiswi\",'mango']\n",
    "newlist=[]\n",
    "for x in fruits:\n",
    "    if \"a\" in x:\n",
    "        newlist.append(x)\n",
    "        print(newlist)"
   ]
  },
  {
   "cell_type": "code",
   "execution_count": 9,
   "id": "35171728",
   "metadata": {},
   "outputs": [
    {
     "name": "stdout",
     "output_type": "stream",
     "text": [
      "['apple', 'banana', 'mango']\n"
     ]
    }
   ],
   "source": [
    "# using list comprehension \n",
    "fruits=[\"apple\",\"banana\",\"cherry\",\"kiswi\",'mango']\n",
    "newlist=[x for x in fruits if \"a\" in x]\n",
    "print(newlist)"
   ]
  },
  {
   "cell_type": "code",
   "execution_count": 12,
   "id": "1ae05f3b",
   "metadata": {},
   "outputs": [
    {
     "name": "stdout",
     "output_type": "stream",
     "text": [
      "54\n"
     ]
    }
   ],
   "source": [
    "def lcm_1(num1,num2):\n",
    "    if num1>num2:\n",
    "        max=num1\n",
    "    else:\n",
    "        max=num2\n",
    "    while(True):\n",
    "        if((max%num1==0)and (max%num2==0)):\n",
    "            lcm= max\n",
    "            break\n",
    "        max = max+1\n",
    "    return lcm\n",
    "num1=18\n",
    "num2=27\n",
    "\n",
    "result=lcm_1(num1,num2) # \n",
    "print(result)\n",
    "\n",
    "\n",
    "        "
   ]
  },
  {
   "cell_type": "code",
   "execution_count": 21,
   "id": "21347f56",
   "metadata": {},
   "outputs": [
    {
     "name": "stdout",
     "output_type": "stream",
     "text": [
      "You are Clever\n",
      "You are Clever\n"
     ]
    }
   ],
   "source": [
    "#global scope or global variable\n",
    "str=\"you are smart\"\n",
    "def demo():\n",
    "    \n",
    "     print(Str) \n",
    "    \n",
    "# Global scope \n",
    "\n",
    "Str = \"You are Clever\"  \n",
    "\n",
    "print(Str) \n",
    "demo()"
   ]
  },
  {
   "cell_type": "code",
   "execution_count": 24,
   "id": "5c4161b2",
   "metadata": {},
   "outputs": [
    {
     "name": "stdout",
     "output_type": "stream",
     "text": [
      "inner: nonlocal\n",
      "outer: nonlocal\n"
     ]
    }
   ],
   "source": [
    "# non local and non global scope\n",
    "def func_outer():\n",
    "    x = \"local\"\n",
    "    def func_inner():\n",
    "        nonlocal x\n",
    "        x = \"nonlocal\"\n",
    "        print(\"inner:\", x)\n",
    "    func_inner()\n",
    "    print(\"outer:\", x)\n",
    "func_outer()"
   ]
  },
  {
   "cell_type": "code",
   "execution_count": 58,
   "id": "6cf55923",
   "metadata": {},
   "outputs": [
    {
     "name": "stdout",
     "output_type": "stream",
     "text": [
      "you are genious\n",
      "you are smart\n"
     ]
    }
   ],
   "source": [
    "# local scope(we can access inside the function)\n",
    "def func_demo():\n",
    "    str=\"you are smart\"\n",
    "    print(str)\n",
    "str=\"you are genious\"\n",
    "print(str)\n",
    "func_demo()\n"
   ]
  },
  {
   "cell_type": "code",
   "execution_count": 11,
   "id": "9c8a114c",
   "metadata": {},
   "outputs": [
    {
     "name": "stdout",
     "output_type": "stream",
     "text": [
      "chandan 20000 maruti\n",
      "akash 12000 maruti\n"
     ]
    }
   ],
   "source": [
    "class empolyee:\n",
    "    \n",
    "      # instance variable\n",
    "        company_name='maruti'\n",
    "        \n",
    "        def __init__(self,name,salary):\n",
    "            self.name=name\n",
    "            self.salary=salary\n",
    "            self.company_name=\"maruti\"\n",
    "            \n",
    "        def details(self):\n",
    "            print(self.name,self.salary,self.company_name)\n",
    "            \n",
    "s1=empolyee(\"chandan\",20000) \n",
    "s2=empolyee('akash',12000)\n",
    "s1.details()\n",
    "s2.details()\n",
    "\n",
    "    \n",
    "    "
   ]
  },
  {
   "cell_type": "code",
   "execution_count": null,
   "id": "10895010",
   "metadata": {},
   "outputs": [],
   "source": []
  }
 ],
 "metadata": {
  "kernelspec": {
   "display_name": "Python 3 (ipykernel)",
   "language": "python",
   "name": "python3"
  },
  "language_info": {
   "codemirror_mode": {
    "name": "ipython",
    "version": 3
   },
   "file_extension": ".py",
   "mimetype": "text/x-python",
   "name": "python",
   "nbconvert_exporter": "python",
   "pygments_lexer": "ipython3",
   "version": "3.9.10"
  }
 },
 "nbformat": 4,
 "nbformat_minor": 5
}
