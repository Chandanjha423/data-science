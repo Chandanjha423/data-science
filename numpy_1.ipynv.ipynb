{
 "cells": [
  {
   "cell_type": "code",
   "execution_count": 20,
   "id": "183b08fb",
   "metadata": {},
   "outputs": [],
   "source": [
    "for i in range (2, 21):\n",
    "    with open(f\" muliplication table_of_{i} \",'w') as f:\n",
    "        for j in range (1, 11):\n",
    "            f.write(f\"{i}X{j}= {i*j} \")\n",
    "        "
   ]
  },
  {
   "cell_type": "code",
   "execution_count": 21,
   "id": "6efa091c",
   "metadata": {},
   "outputs": [],
   "source": [
    "#file without with statement \n",
    "for i in range (2, 21):"
   ]
  },
  {
   "cell_type": "code",
   "execution_count": null,
   "id": "9f721224",
   "metadata": {},
   "outputs": [],
   "source": []
  }
 ],
 "metadata": {
  "kernelspec": {
   "display_name": "Python 3 (ipykernel)",
   "language": "python",
   "name": "python3"
  },
  "language_info": {
   "codemirror_mode": {
    "name": "ipython",
    "version": 3
   },
   "file_extension": ".py",
   "mimetype": "text/x-python",
   "name": "python",
   "nbconvert_exporter": "python",
   "pygments_lexer": "ipython3",
   "version": "3.9.10"
  }
 },
 "nbformat": 4,
 "nbformat_minor": 5
}
